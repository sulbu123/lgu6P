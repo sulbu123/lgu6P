{
 "cells": [
  {
   "cell_type": "code",
   "execution_count": null,
   "id": "65d9a6ab-2c69-4f5c-83a5-2067e520c2b0",
   "metadata": {},
   "outputs": [],
   "source": [
    "import seaborn as sns\n",
    "import pandas as pd\n",
    "\n",
    "iris = sns.load_dataset('iris')\n",
    "result = iris.loc[:, ['sepal_length', 'species']]\n",
    "\n",
    "#미션\n",
    "#파일명 iris_mission.csv\n",
    "#lab01/dataset/iris_mission.csv\n",
    "result.to_csv(\"../../lab01/dataset/iris_mission.csv\", index=False)\n"
   ]
  }
 ],
 "metadata": {
  "kernelspec": {
   "display_name": "Python 3 (ipykernel)",
   "language": "python",
   "name": "python3"
  },
  "language_info": {
   "codemirror_mode": {
    "name": "ipython",
    "version": 3
   },
   "file_extension": ".py",
   "mimetype": "text/x-python",
   "name": "python",
   "nbconvert_exporter": "python",
   "pygments_lexer": "ipython3",
   "version": "3.13.2"
  }
 },
 "nbformat": 4,
 "nbformat_minor": 5
}
